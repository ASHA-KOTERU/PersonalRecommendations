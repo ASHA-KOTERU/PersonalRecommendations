{
 "cells": [
  {
   "cell_type": "code",
   "execution_count": 1,
   "metadata": {
    "colab": {
     "base_uri": "https://localhost:8080/"
    },
    "id": "a424b415-b8ef-47b3-84ee-7c40332e01ef",
    "outputId": "5a16988b-7a49-4ccb-efc3-0e6324020197"
   },
   "outputs": [
    {
     "name": "stdout",
     "output_type": "stream",
     "text": [
      "Collecting faiss-cpu\n",
      "  Downloading faiss_cpu-1.7.2-cp38-cp38-manylinux_2_17_x86_64.manylinux2014_x86_64.whl (8.6 MB)\n",
      "\u001b[K     |████████████████████████████████| 8.6 MB 4.7 MB/s eta 0:00:01\n",
      "\u001b[?25hInstalling collected packages: faiss-cpu\n",
      "Successfully installed faiss-cpu-1.7.2\n"
     ]
    }
   ],
   "source": [
    "!pip install faiss-cpu --no-cache"
   ]
  },
  {
   "cell_type": "code",
   "execution_count": 1,
   "metadata": {
    "id": "837dcaa9-cc0b-4345-bbee-3a09683decf9"
   },
   "outputs": [],
   "source": [
    "import pickle\n",
    "import faiss\n",
    "import numpy as np"
   ]
  },
  {
   "cell_type": "markdown",
   "metadata": {
    "id": "41f1f7cb-9441-4fe1-962e-9e4cb3e3c192"
   },
   "source": [
    "# **Welcome to week 3 project!**\n",
    "\n",
    "Congratulations on making it to week 3! 👏 In the first week of this course, we covered the basics of how to design personalized recommendation systems. We then provided some system design examples for large scale recommenders from corporations like Spotify and YouTube, as well as techniques for candidate generation, specifically the two-tower model being used at Twitter and Pinterest.\n",
    "\n",
    "Last week, we covered details of ML approaches for recommendations: including multi-task recommenders and contextual bandits.\n",
    "\n",
    "In week 3, we covered various techniques for learning user representations.\n",
    "\n",
    "In this week's project, we will touch upon two key aspects related to representations:\n",
    "1. How do we query large amount of vectors in efficient time.\n",
    "2. How can we infer various user representations and see what their impact is on downstream task.\n",
    "\n",
    "Lets begin with Part A, which tells us how we could handle a large number of candidate items or user representations in an efficient manner. \n"
   ]
  },
  {
   "cell_type": "markdown",
   "metadata": {
    "id": "d0e01328-6834-4b11-85c1-03867e1d4860"
   },
   "source": [
    "# Part A: Approximate nearest neighbor search\n",
    "\n",
    "Often we are interested in finding nearest neighbors in a large space of vectors. To store embeddings for 400 million users and over 100 million items and querying them in real time is a challenging task. This is where approximate nearest neighbor approaches step in to help. Annoy, Faiss, ScaNN are typical libraries that are used for efficient vector similarity search at scale. They implement algorithms that search in sets of vectors of any size, up to ones that possibly do not fit in RAM.\n",
    "\n",
    "In the first part of this week's project, we will simulate embeddings of 1 million items and try to find k-nearest neighbours for an item of interest. We will implement a vanilla search function to fetch the top-k nearest neighbors and estimate the time it takes for us to do so. We will then compare this with FAISS -- Facebook's nearest neighbour search library, and compare the time it takes for us to get nearest neighbours from FAISS versus our own implementation."
   ]
  },
  {
   "cell_type": "markdown",
   "metadata": {
    "id": "3fa2b438-be53-4f39-b990-859046a4a560"
   },
   "source": [
    "Lets first generate a simulated dataset of embeddings of 1 million items."
   ]
  },
  {
   "cell_type": "code",
   "execution_count": 2,
   "metadata": {
    "id": "8c36fc8b-a032-4b48-bbeb-3bff46624615"
   },
   "outputs": [],
   "source": [
    "d = 64                           # dimension\n",
    "nb = 1000000                     # database size\n",
    "nq = 10000                       # nb of queries\n",
    "np.random.seed(1234)             # make reproducible\n",
    "xb = np.random.random((nb, d)).astype('float32')\n",
    "xq = np.random.random((nq, d)).astype('float32')"
   ]
  },
  {
   "cell_type": "code",
   "execution_count": 3,
   "metadata": {},
   "outputs": [
    {
     "data": {
      "text/plain": [
       "((1000000, 64), (10000, 64))"
      ]
     },
     "execution_count": 3,
     "metadata": {},
     "output_type": "execute_result"
    }
   ],
   "source": [
    "xb.shape,xq.shape"
   ]
  },
  {
   "cell_type": "markdown",
   "metadata": {
    "id": "142c00a5-f36b-4a5f-9e27-4a3e38b467d7"
   },
   "source": [
    "Now that we have these items, lets take up the goal of finding the top-5 items closest to this specific item. Your goal is to implement your function to estimate the top-5 items and print the average distance of these top 5 items to the query item."
   ]
  },
  {
   "cell_type": "code",
   "execution_count": 4,
   "metadata": {
    "id": "b2dd70b9-8d2c-4134-b866-ab09af43a47d"
   },
   "outputs": [
    {
     "name": "stdout",
     "output_type": "stream",
     "text": [
      "(1, 64)\n"
     ]
    }
   ],
   "source": [
    "k=4\n",
    "query_vector = xb[2:3]\n",
    "print(query_vector.shape)"
   ]
  },
  {
   "cell_type": "code",
   "execution_count": 5,
   "metadata": {
    "id": "84a94ee2-3131-44c5-ba95-ec67aa675048"
   },
   "outputs": [],
   "source": [
    "from scipy.spatial.distance import cdist\n",
    "import numpy as np\n",
    "def find_top_k_nn(query_vector,k):\n",
    "    \"\"\"\n",
    "    in this function, implement your definition of top-k nearest neighbours, and return the distances\n",
    "    and indices of the these top-k items.\n",
    "    \"\"\"\n",
    "    cosine_distance = cdist(query_vector,xb).flatten()\n",
    "    indices = np.argsort(cosine_distance)[:k]\n",
    "    return cosine_distance[[indices]],indices"
   ]
  },
  {
   "cell_type": "code",
   "execution_count": null,
   "metadata": {},
   "outputs": [],
   "source": []
  },
  {
   "cell_type": "markdown",
   "metadata": {
    "id": "b8a895ce-4f0b-41a5-8243-90f18bff8d7b"
   },
   "source": [
    "With your top-k NN function implemented, call this function to get the top-k nearest neighbor items for the query_vector and print the average distance. Also, print the time it takes to run this function:"
   ]
  },
  {
   "cell_type": "code",
   "execution_count": 55,
   "metadata": {
    "colab": {
     "base_uri": "https://localhost:8080/",
     "height": 409
    },
    "id": "0df9e9f8-a854-4896-9ebd-fd74bad21690",
    "outputId": "42ca8e55-76ca-4dae-f960-6b0f5cb37c23"
   },
   "outputs": [
    {
     "name": "stdout",
     "output_type": "stream",
     "text": [
      "distances from the k nearest neighbor fetched: [0.         2.05438403 2.09414728 2.16642219]\n",
      "indices from the k nearest neighbor fetched: [     2 379284 539651 400245]\n",
      "average distance of the k- nearest neighbors fetched:  1.5787383734604648\n",
      "CPU times: user 158 ms, sys: 64.1 ms, total: 222 ms\n",
      "Wall time: 220 ms\n"
     ]
    },
    {
     "name": "stderr",
     "output_type": "stream",
     "text": [
      "<ipython-input-31-bf8df64b3082>:10: FutureWarning: Using a non-tuple sequence for multidimensional indexing is deprecated; use `arr[tuple(seq)]` instead of `arr[seq]`. In the future this will be interpreted as an array index, `arr[np.array(seq)]`, which will result either in an error or a different result.\n",
      "  return cosine_distance[[indices]],indices\n"
     ]
    }
   ],
   "source": [
    "%%time\n",
    "D, I = find_top_k_nn(query_vector, k=4)\n",
    "print(\"distances from the k nearest neighbor fetched:\",D)\n",
    "print(\"indices from the k nearest neighbor fetched:\",I)\n",
    "print(\"average distance of the k- nearest neighbors fetched: \",D.mean())"
   ]
  },
  {
   "cell_type": "markdown",
   "metadata": {
    "id": "bd4452f5-ce17-43df-95f2-e9b58e8cad5e"
   },
   "source": [
    "Now lets switch to using Faiss https://github.com/facebookresearch/faiss\n",
    "\n",
    "Faiss is a library for efficient similarity search and clustering of dense vectors. It contains algorithms that search in sets of vectors of any size, up to ones that possibly do not fit in RAM. "
   ]
  },
  {
   "cell_type": "markdown",
   "metadata": {
    "id": "b6427be9-53b2-446c-851b-b2f6b7db9fa6"
   },
   "source": [
    "### Similarity search in Faiss\n",
    "\n",
    "Given a set of vectors x_i in dimension d, Faiss builds a data structure in RAM. After the structure is constructed, when given a new vector x in dimension d it performs efficiently the operation:\n",
    "\n",
    "$i = argmin_i ||x - x_i||$\n",
    "\n",
    "where ||.|| is the Euclidean distance (L2).\n",
    "\n",
    "In Faiss terms, the data structure is an index, an object that has an add method to add x_i vectors. Note that the x_i's are assumed to be fixed. Computing the argmin is the search operation on the index.\n",
    "\n",
    "### Indexes used by Faiss\n",
    "\n",
    "1. The inverted file from “Video google: A text retrieval approach to object matching in videos.”, Sivic & Zisserman, ICCV 2003. This is the key to non-exhaustive search in large datasets. Otherwise all searches would need to scan all elements in the index, which is prohibitive even if the operation to apply for each element is fast\n",
    "\n",
    "\n",
    "2. The product quantization (PQ) method from “Product quantization for nearest neighbor search”, Jégou & al., PAMI 2011. This can be seen as a lossy compression technique for high-dimensional vectors, that allows relatively accurate reconstructions and distance computations in the compressed domain.\n",
    "\n",
    "\n",
    "3. The three-level quantization (IVFADC-R aka IndexIVFPQR) method from \"Searching in one billion vectors: re-rank with source coding\", Tavenard & al., ICASSP'11."
   ]
  },
  {
   "cell_type": "markdown",
   "metadata": {
    "id": "3e63810d-fd22-49ca-b4bd-423ebf348c5f"
   },
   "source": [
    "We will implement these three indexes from faiss and use each of these three to search the index, and get the top-k nearest neighbour vectors, and estimate the average distance.\n",
    "\n",
    "Lets first construct the three indexes: index1, index2, index3 based on Flat index, Inverted index and product quantization techniques:"
   ]
  },
  {
   "cell_type": "code",
   "execution_count": 56,
   "metadata": {
    "colab": {
     "base_uri": "https://localhost:8080/"
    },
    "id": "76487ec4-a020-4ccd-aa33-f6ef25869048",
    "outputId": "8f8f947f-c32e-4a5b-92db-0fbaecbe542d"
   },
   "outputs": [
    {
     "name": "stdout",
     "output_type": "stream",
     "text": [
      "total number of vectors indexed =  1000000\n",
      "CPU times: user 31.2 ms, sys: 67.8 ms, total: 99 ms\n",
      "Wall time: 98.1 ms\n"
     ]
    }
   ],
   "source": [
    "%%time\n",
    "index1 = faiss.IndexFlatL2(d)   # build the index\n",
    "index1.add(xb)                  # add vectors to the index\n",
    "print(\"total number of vectors indexed = \",index1.ntotal)"
   ]
  },
  {
   "cell_type": "code",
   "execution_count": 57,
   "metadata": {
    "colab": {
     "base_uri": "https://localhost:8080/"
    },
    "id": "55447035-57e2-4938-837b-9bf20bf66ff6",
    "outputId": "269f5ed4-2448-4bbc-af47-8161845d0b5d"
   },
   "outputs": [
    {
     "name": "stdout",
     "output_type": "stream",
     "text": [
      "total number of vectors indexed =  1000000\n",
      "CPU times: user 7.44 s, sys: 135 ms, total: 7.58 s\n",
      "Wall time: 1.01 s\n"
     ]
    }
   ],
   "source": [
    "%%time\n",
    "nlist = 100\n",
    "quantizer = faiss.IndexFlatL2(d)  # the other index\n",
    "index2 = faiss.IndexIVFFlat(quantizer, d, nlist, faiss.METRIC_L2)\n",
    "index2.train(xb)\n",
    "index2.add(xb)\n",
    "print(\"total number of vectors indexed = \",index2.ntotal)"
   ]
  },
  {
   "cell_type": "code",
   "execution_count": 58,
   "metadata": {
    "colab": {
     "base_uri": "https://localhost:8080/"
    },
    "id": "f04ebe3c-705d-49b2-aa7b-3602c111c754",
    "outputId": "ee5d4bbf-6a57-4f55-b855-3936da5a099f"
   },
   "outputs": [
    {
     "name": "stdout",
     "output_type": "stream",
     "text": [
      "total number of vectors indexed =  1000000\n",
      "CPU times: user 1min 3s, sys: 55.9 ms, total: 1min 3s\n",
      "Wall time: 8.19 s\n"
     ]
    }
   ],
   "source": [
    "%%time\n",
    "nlist = 100\n",
    "m = 8\n",
    "k = 4\n",
    "quantizer = faiss.IndexFlatL2(d)  # this remains the same\n",
    "index3 = faiss.IndexIVFPQ(quantizer, d, nlist, m, 8)\n",
    "                                  # 8 specifies that each sub-vector is encoded as 8 bits\n",
    "index3.train(xb)\n",
    "index3.add(xb)\n",
    "print(\"total number of vectors indexed = \",index3.ntotal)"
   ]
  },
  {
   "cell_type": "markdown",
   "metadata": {
    "id": "047a6682-f771-4672-8998-307f4cfad5f5"
   },
   "source": [
    "Now that we have these three indexes, let us query these to fetch the top-k nearest neghbour for our query_vector and compute the average distance we obtain for each.\n",
    "\n",
    "We will also time these commands, to find out the trade-off between accuracy and latency."
   ]
  },
  {
   "cell_type": "code",
   "execution_count": 59,
   "metadata": {
    "colab": {
     "base_uri": "https://localhost:8080/"
    },
    "id": "2e54dc7d-5d15-47b2-85e4-c583f92d52a8",
    "outputId": "5052a190-c81e-43d9-854c-84cdb824961d"
   },
   "outputs": [
    {
     "name": "stdout",
     "output_type": "stream",
     "text": [
      "distances from the k nearest neighbor fetched: [[0.        4.2204943 4.3854527 4.6933837]]\n",
      "indices from the k nearest neighbor fetched: [[     2 379284 539651 400245]]\n",
      "average distance of the k- nearest neighbors fetched:  3.324833\n",
      "CPU times: user 127 ms, sys: 680 µs, total: 128 ms\n",
      "Wall time: 43.3 ms\n"
     ]
    }
   ],
   "source": [
    "%%time\n",
    "D, I = index1.search(query_vector, k)\n",
    "print(\"distances from the k nearest neighbor fetched:\", D)\n",
    "print(\"indices from the k nearest neighbor fetched:\", I)\n",
    "print(\"average distance of the k- nearest neighbors fetched: \", D.mean())"
   ]
  },
  {
   "cell_type": "code",
   "execution_count": 44,
   "metadata": {
    "colab": {
     "base_uri": "https://localhost:8080/"
    },
    "id": "be8f1b17-6108-41fd-814c-caa996fb731d",
    "outputId": "2e0ecbda-dd59-4e3e-db7c-6ae4a465ae74"
   },
   "outputs": [
    {
     "name": "stdout",
     "output_type": "stream",
     "text": [
      "distances from the k nearest neighbor fetched: [[0.        5.0635023 5.4133463 5.642405 ]]\n",
      "indices from the k nearest neighbor fetched: [[     2 859123 177280  74082]]\n",
      "average distance of the k- nearest neighbors fetched:  4.0298133\n",
      "CPU times: user 1.19 ms, sys: 133 µs, total: 1.32 ms\n",
      "Wall time: 802 µs\n"
     ]
    }
   ],
   "source": [
    "%%time\n",
    "D, I = index2.search(query_vector, k)\n",
    "print(\"distances from the k nearest neighbor fetched:\", D)\n",
    "print(\"indices from the k nearest neighbor fetched:\", I)\n",
    "print(\"average distance of the k- nearest neighbors fetched: \", D.mean())"
   ]
  },
  {
   "cell_type": "code",
   "execution_count": 45,
   "metadata": {
    "colab": {
     "base_uri": "https://localhost:8080/"
    },
    "id": "2b230291-517c-49c5-a634-f9d4d331e241",
    "outputId": "e0b43671-bd84-412a-b9ff-49148d1805d8"
   },
   "outputs": [
    {
     "name": "stdout",
     "output_type": "stream",
     "text": [
      "distances from the k nearest neighbor fetched: [[1.075362  4.983231  5.1305366 5.1387625]]\n",
      "indices from the k nearest neighbor fetched: [[     2 351653 887285 703885]]\n",
      "average distance of the k- nearest neighbors fetched:  4.081973\n",
      "CPU times: user 797 µs, sys: 0 ns, total: 797 µs\n",
      "Wall time: 480 µs\n"
     ]
    }
   ],
   "source": [
    "%%time\n",
    "D, I = index3.search(query_vector, k)\n",
    "print(\"distances from the k nearest neighbor fetched:\", D)\n",
    "print(\"indices from the k nearest neighbor fetched:\", I)\n",
    "print(\"average distance of the k- nearest neighbors fetched: \", D.mean())"
   ]
  },
  {
   "cell_type": "markdown",
   "metadata": {
    "id": "c2c902e3-c9bf-408e-9052-11af5a3b069f"
   },
   "source": [
    "Running all these, we observe that the product quantization based index is an order of magnitude faster than the inverted index. In terms of accuracy, if we assume that the lower the distance the more accurate the result, FlatIndex gives us the least distance."
   ]
  },
  {
   "cell_type": "markdown",
   "metadata": {
    "id": "044a818f-19ab-4c26-8532-922c9aa1d673"
   },
   "source": [
    "### Goal 1 for this week: Implement your k-NN function and time it\n",
    "\n",
    "The main goal for this part of the project is to implement your vanilla nearest neighbor function and fetch the closest k nearest neighbours to the query vector. Important to note that your implementation will give an exact result, i.e., your implementation will find the exact closest k vectors that will give the minimum distance to the query_vector.\n",
    "\n",
    "Please compile the results in a table, and compare the average distance obtained and the time it took to query the 1 million vectors. A nice 2D plot would also give you a good idea of the speed-accuracy trade-off involved."
   ]
  },
  {
   "cell_type": "code",
   "execution_count": 62,
   "metadata": {
    "id": "2e69dd09-6a21-49a8-8ca8-4d5164a7e674"
   },
   "outputs": [
    {
     "data": {
      "text/plain": [
       "<AxesSubplot:xlabel='Total time (ms)', ylabel='Average distances'>"
      ]
     },
     "execution_count": 62,
     "metadata": {},
     "output_type": "execute_result"
    },
    {
     "data": {
      "image/png": "[encoded data removed]",
      "text/plain": [
       "<Figure size 432x288 with 1 Axes>"
      ]
     },
     "metadata": {
      "needs_background": "light"
     },
     "output_type": "display_data"
    }
   ],
   "source": [
    "data = {\n",
    "    'Method': ['vanilla_function', 'faiss_flat', 'faiss_inverted', 'faiss_inverted_product_quantizer'],\n",
    "    'Average distances': [1.70, 3.32, 4.03, 4.11],\n",
    "    'Total time (ms)': [220,128,1.31,0.79]\n",
    "}\n",
    "data_df = pd.DataFrame(data)\n",
    "import seaborn as sns\n",
    "\n",
    "sns.scatterplot(data=data_df, x='Total time (ms)', y='Average distances', hue='Method')"
   ]
  },
  {
   "cell_type": "markdown",
   "metadata": {
    "id": "e127987e-44f9-43b3-9219-1036edd0d14c"
   },
   "source": [
    "# Part B: User representations"
   ]
  },
  {
   "cell_type": "markdown",
   "metadata": {
    "id": "13c18e33-3a62-4afe-95af-9d33ef87917c"
   },
   "source": [
    "In the second part of this week's project, we wish to understand few ways of estimating user representations, and how it impacts the performance of downstream tasks.\n",
    "\n",
    "To this end, we will work on top of our H&M dataset, and develop a few different ways of representing users.\n",
    "\n",
    "The broader framework here will be -- we fix the article representations, and fix the downstream task, and then vary the user representations and see how the performance of the downstream task changes based on different user representation techniques.\n"
   ]
  },
  {
   "cell_type": "code",
   "execution_count": 63,
   "metadata": {
    "colab": {
     "base_uri": "https://localhost:8080/"
    },
    "id": "dd824205-1569-4b54-8c48-fda93a59053d",
    "outputId": "a821f59c-db3e-4f43-f1bf-a5d27e4c203c",
    "scrolled": true
   },
   "outputs": [
    {
     "name": "stdout",
     "output_type": "stream",
     "text": [
      "Requirement already satisfied: lightgbm in /home/edge/anaconda3/lib/python3.8/site-packages (3.3.2)\r\n",
      "Requirement already satisfied: scipy in /home/edge/anaconda3/lib/python3.8/site-packages (from lightgbm) (1.5.0)\r\n",
      "Requirement already satisfied: wheel in /home/edge/anaconda3/lib/python3.8/site-packages (from lightgbm) (0.34.2)\r\n",
      "Requirement already satisfied: numpy in /home/edge/anaconda3/lib/python3.8/site-packages (from lightgbm) (1.22.4)\r\n",
      "Requirement already satisfied: scikit-learn!=0.22.0 in /home/edge/anaconda3/lib/python3.8/site-packages (from lightgbm) (0.23.1)\r\n",
      "Requirement already satisfied: joblib>=0.11 in /home/edge/anaconda3/lib/python3.8/site-packages (from scikit-learn!=0.22.0->lightgbm) (0.16.0)\r\n",
      "Requirement already satisfied: threadpoolctl>=2.0.0 in /home/edge/anaconda3/lib/python3.8/site-packages (from scikit-learn!=0.22.0->lightgbm) (2.1.0)\r\n"
     ]
    }
   ],
   "source": [
    "!pip install lightgbm"
   ]
  },
  {
   "cell_type": "code",
   "execution_count": 2,
   "metadata": {
    "id": "251abdd1-1cd4-41f9-af70-23d22a1aa455"
   },
   "outputs": [],
   "source": [
    "import numpy as np # linear algebra\n",
    "import pandas as pd # data processing, CSV file I/O (e.g. pd.read_csv)\n",
    "import random\n",
    "import gc\n",
    "from sklearn.model_selection import train_test_split\n",
    "from sklearn.model_selection import StratifiedKFold\n",
    "from sklearn.model_selection import GroupShuffleSplit\n",
    "from sklearn.model_selection import GroupKFold\n",
    "from sklearn.preprocessing import LabelEncoder\n",
    "\n",
    "from sklearn.feature_extraction.text import TfidfVectorizer\n",
    "from sklearn.decomposition import TruncatedSVD\n",
    "import lightgbm as lgb\n",
    "import datetime\n",
    "import itertools\n",
    "import os\n",
    "from contextlib import redirect_stdout\n",
    "from tqdm.notebook import tqdm"
   ]
  },
  {
   "cell_type": "markdown",
   "metadata": {
    "id": "219f3784-220e-4889-ae88-09c80f556479"
   },
   "source": [
    "While we have used neural models so far, lets try a tree based model for this task. We use LightGBM library to train the main model. Lets set up few parameters for the lightgbm model, and specify some additional parameters:"
   ]
  },
  {
   "cell_type": "code",
   "execution_count": 3,
   "metadata": {
    "id": "21e76b18-8d9e-4a1b-bf84-a929c8f16c6f"
   },
   "outputs": [],
   "source": [
    "rand = 64\n",
    "lgb_params = {\n",
    "    \"objective\": \"binary\",\n",
    "    \"boosting\": \"gbdt\",\n",
    "    \"max_depth\": -1,\n",
    "    \"num_leaves\": 40,\n",
    "    \"subsample\": 0.8,\n",
    "    \"subsample_freq\": 1,\n",
    "    \"bagging_seed\": rand,\n",
    "    \"learning_rate\": 0.05,\n",
    "    \"feature_fraction\": 0.6,\n",
    "    \"min_data_in_leaf\": 100,\n",
    "    \"lambda_l1\": 0,\n",
    "    \"lambda_l2\": 0,\n",
    "    \"random_state\": rand,\n",
    "    \"metric\": \"auc\",#\"binary_logloss\",\n",
    "    \"verbose\": -1\n",
    "}\n",
    "\n",
    "tran_dtypes = {\"t_dat\":\"str\",\n",
    "               \"customer_id\":\"str\",\n",
    "               \"article_id\":\"int\",\n",
    "               \"product_code\":\"int\",\n",
    "               \"price\":\"float\",\n",
    "               \"sales_channel_id\":\"int\"}\n",
    "art_dtypes = {\"article_id\":\"int\",\n",
    "              \"product_code\":\"int\",\n",
    "              \"product_type_no\":\"int\",\n",
    "              \"graphical_appearance_no\":\"int\",\n",
    "              \"colour_group_code\":\"int\",\n",
    "              \"department_no\":\"int\",\n",
    "              \"index_code\":\"str\",\n",
    "              \"index_group_no\":\"int\",\n",
    "              \"section_no\":\"int\",\n",
    "              \"garment_group_no\":\"int\"}\n",
    "cust_dtypes = {\"customer_id\":\"str\"}\n",
    "\n",
    "obj = \"class\" # \"class\" or \"rank\"\n",
    "N = 15000\n",
    "n_iter = 2 # num of iteration\n",
    "idx_file = \"exp1\"\n",
    "n_round = 2000\n",
    "n_splits = 1\n",
    "nobuy = 20 # num of negative samples"
   ]
  },
  {
   "cell_type": "markdown",
   "metadata": {
    "id": "3df9c2e0-af9e-406d-a9c6-c38a87347728"
   },
   "source": [
    "While we vary the user represnetations, we will keep the article representation fixed. The code below reads the article.csv file and extracts a number of features to represent articles."
   ]
  },
  {
   "cell_type": "code",
   "execution_count": 6,
   "metadata": {
    "colab": {
     "base_uri": "https://localhost:8080/"
    },
    "id": "fb93a7cd-a637-4960-9577-08449a57b55d",
    "outputId": "cc893af0-cede-4576-fbc5-c001c97e7151"
   },
   "outputs": [
    {
     "ename": "NameError",
     "evalue": "name 'TfidfVectorizer' is not defined",
     "output_type": "error",
     "traceback": [
      "\u001b[0;31m---------------------------------------------------------------------------\u001b[0m",
      "\u001b[0;31mNameError\u001b[0m                                 Traceback (most recent call last)",
      "\u001b[0;32m<ipython-input-6-a801a4a7b30b>\u001b[0m in \u001b[0;36m<module>\u001b[0;34m\u001b[0m\n\u001b[1;32m     15\u001b[0m \u001b[0;34m\u001b[0m\u001b[0m\n\u001b[1;32m     16\u001b[0m \u001b[0;31m## Get article features\u001b[0m\u001b[0;34m\u001b[0m\u001b[0;34m\u001b[0m\u001b[0;34m\u001b[0m\u001b[0m\n\u001b[0;32m---> 17\u001b[0;31m \u001b[0mtfidf\u001b[0m \u001b[0;34m=\u001b[0m \u001b[0mTfidfVectorizer\u001b[0m\u001b[0;34m(\u001b[0m\u001b[0mmin_df\u001b[0m\u001b[0;34m=\u001b[0m\u001b[0;36m3\u001b[0m\u001b[0;34m)\u001b[0m\u001b[0;34m\u001b[0m\u001b[0;34m\u001b[0m\u001b[0m\n\u001b[0m\u001b[1;32m     18\u001b[0m \u001b[0mV_desc\u001b[0m \u001b[0;34m=\u001b[0m \u001b[0mtfidf\u001b[0m\u001b[0;34m.\u001b[0m\u001b[0mfit_transform\u001b[0m\u001b[0;34m(\u001b[0m\u001b[0mdf\u001b[0m\u001b[0;34m[\u001b[0m\u001b[0;34m\"detail_desc\"\u001b[0m\u001b[0;34m]\u001b[0m\u001b[0;34m.\u001b[0m\u001b[0mfillna\u001b[0m\u001b[0;34m(\u001b[0m\u001b[0;34m\"nodesc\"\u001b[0m\u001b[0;34m)\u001b[0m\u001b[0;34m)\u001b[0m\u001b[0;34m\u001b[0m\u001b[0;34m\u001b[0m\u001b[0m\n\u001b[1;32m     19\u001b[0m \u001b[0;34m\u001b[0m\u001b[0m\n",
      "\u001b[0;31mNameError\u001b[0m: name 'TfidfVectorizer' is not defined"
     ]
    }
   ],
   "source": [
    "df = pd.read_csv(\"../Week1/hmdata/articles.csv.zip\")\n",
    "\n",
    "## Find categorical columns\n",
    "ohe_columns = []\n",
    "total = 0\n",
    "\n",
    "for col in df.columns:\n",
    "    if df[col].dtype == \"int64\" and len(df[col].unique()) <= 500:\n",
    "        ohe_columns.append(col)\n",
    "        total += len(df[col].unique())\n",
    "        \n",
    "## Do one hot encoding of the above categorical variables\n",
    "V = pd.get_dummies(df[ohe_columns], columns=ohe_columns).values\n",
    "\n",
    "\n",
    "## Get article features\n",
    "tfidf = TfidfVectorizer(min_df=3)\n",
    "V_desc = tfidf.fit_transform(df[\"detail_desc\"].fillna(\"nodesc\"))\n",
    "\n",
    "## Represent articles as vector of size 512\n",
    "EMB_SIZE = 512\n",
    "V = np.hstack([V.astype(\"float32\"), V_desc.todense()])\n",
    "svd = TruncatedSVD(n_components=EMB_SIZE, random_state=0)\n",
    "svd.fit(V)\n",
    "V = svd.transform(V)\n",
    "\n",
    "np.save(\"articles.npy\", V)"
   ]
  },
  {
   "cell_type": "code",
   "execution_count": 4,
   "metadata": {
    "id": "64a3715e-de70-49d4-b057-e0b674ca65ff"
   },
   "outputs": [],
   "source": [
    "def item_representation_1():\n",
    "    df_art = pd.read_csv(path+\"articles.csv.zip\",dtype=art_dtypes)\n",
    "    le = LabelEncoder()\n",
    "    le.fit(df_art[\"index_code\"].unique())\n",
    "    df_art[\"index_code\"] = le.transform(df_art[\"index_code\"])\n",
    "    \n",
    "    dict_vec = {}\n",
    "    vec_art = np.load(\"articles.npy\")\n",
    "    df_vec = pd.concat([df_art[\"article_id\"],pd.DataFrame(vec_art)],axis=1)\n",
    "    for i in range(len(vec_art)):\n",
    "        dict_vec[df_art[\"article_id\"][i]] = vec_art[i]\n",
    "    del vec_art,df_vec\n",
    "    \n",
    "    return df_art, dict_vec\n",
    "    "
   ]
  },
  {
   "cell_type": "markdown",
   "metadata": {
    "id": "7cbe5f64-354c-451e-a9e0-eb114440f8f0"
   },
   "source": [
    "Taken together, the two cells above give us all the features we want to represent articles."
   ]
  },
  {
   "cell_type": "markdown",
   "metadata": {
    "id": "f0c3082e-1da7-466f-8b9f-c777c8ef63cd"
   },
   "source": [
    "Now lets define some functions to extract user representations. The different functions will contain different ways of representing users.\n",
    "\n",
    "We bootstrap by providing a simple set of features to represent users in user_representation_1(). This function returns the dataframe of user features."
   ]
  },
  {
   "cell_type": "code",
   "execution_count": 1,
   "metadata": {
    "id": "5de63a95-ef6c-4796-8e59-0cb33b9b948e"
   },
   "outputs": [],
   "source": [
    "def user_representation_1():\n",
    "    df_cust = pd.read_csv(path+\"customers.csv.zip\",dtype=cust_dtypes)\n",
    "    df_cust[\"age\"] = df_cust[\"age\"].fillna(df_cust[\"age\"].mean())\n",
    "    df_cust[[\"FN\",\"Active\"]] = df_cust[[\"FN\",\"Active\"]].fillna(0)\n",
    "    df_cust[\"club_member_status\"] = df_cust[\"club_member_status\"].apply(lambda x:1 if x == \"ACTIVE\" else 0)\n",
    "    df_cust[\"fashion_news_frequency\"] = df_cust[\"fashion_news_frequency\"].apply(lambda x:0 if x == \"NONE\" else 1)\n",
    "    df_cust = df_cust.drop([\"postal_code\"], axis=1)\n",
    "    return df_cust"
   ]
  },
  {
   "cell_type": "code",
   "execution_count": 8,
   "metadata": {
    "id": "65dbcef5-701a-4999-b696-3d871ccb485d"
   },
   "outputs": [],
   "source": [
    "def user_representation_2():\n",
    "    \"\"\"\n",
    "    TODO -- compute user representations as the average\n",
    "    of the embeddings of the recently purchased articles\n",
    "    return user representation\n",
    "\n",
    "    Hint: You may find pd.DataFrame(item_representation_1()[1]).transpose() useful\n",
    "    \"\"\"\n",
    "    path = '../Week1/hmdata/'\n",
    "\n",
    "    day_start = datetime.datetime(2019,9,23) - datetime.timedelta(days=36)\n",
    "    day_end = datetime.datetime(2019,9,23) - datetime.timedelta(days=6)\n",
    "\n",
    "    df_trans = pd.read_csv(path + \"transactions_train.csv.zip\", dtype=tran_dtypes)\n",
    "\n",
    "    df_trans.t_dat = pd.to_datetime(df_trans.t_dat)\n",
    "\n",
    "    df_trans = df_trans[(df_trans.t_dat > day_start) & (df_trans.t_dat < day_end)]\n",
    "\n",
    "    article_embeddings = pd.DataFrame(item_representation_1()[1]).transpose().reset_index()\n",
    "    article_embeddings.columns = ['article_id'] + [f\"embed_{i}\" for i in range(len(article_embeddings.columns.to_list())-1)]\n",
    "\n",
    "    df_merged = df_trans.merge(article_embeddings, how=\"left\", on=\"article_id\").sort_values(by='t_dat')\n",
    "\n",
    "    df_merged = (df_merged.groupby([\"customer_id\"])\n",
    "                .tail(5)[[\"customer_id\"]+[f\"embed_{i}\" for i in range(len(article_embeddings.columns.to_list())-1)]]\n",
    "                .groupby([\"customer_id\"])\n",
    "                .mean()\n",
    "                .reset_index()\n",
    "                )\n",
    "    \n",
    "    del df_trans\n",
    "    del article_embeddings\n",
    "    gc.collect() \n",
    "    return df_merged\n",
    "   \n",
    "\n",
    "def user_representation_3():\n",
    "    \"\"\"\n",
    "    OPTIONAL -- compute user representations as the output\n",
    "    of the doc2vec model.\n",
    "    https://cs.stanford.edu/~quocle/paragraph_vector.pdf\n",
    "    Doc2vec model is an embedding learning method\n",
    "    that enables us to learn representations of a document.\n",
    "    We treat each user as a document, and the set of articles\n",
    "    the user has purchased as the set of words in the document.\n",
    "    \"\"\"\n",
    "    return None"
   ]
  },
  {
   "cell_type": "markdown",
   "metadata": {
    "id": "d39b7430-bf43-4f16-b7a8-a6edbd078e1d"
   },
   "source": [
    "As part of the goal for part B of this week's project, please use the above two functions to implement the two user representation techniques mentioned in the project jumpstart.\n",
    "\n",
    "You can run the rest of the notebook for now, and come back to these functions, implement them and re-run some of the code below and use user_representation_2() (and optionally user_representation_3()) to get the appropriate user features to use to train the model for the downstream task.\n",
    "\n",
    "Lets write a function that would read the transactions data and return the dataframes for the transactions within the dates we want to consider, along with the dataframes for articles features: df_art and dict_vec."
   ]
  },
  {
   "cell_type": "code",
   "execution_count": 4,
   "metadata": {
    "id": "55c3e4dd-ce84-4199-9215-06490305db3c"
   },
   "outputs": [],
   "source": [
    "path = '../Week1/hmdata/'\n",
    "def read_data(day_oldest):\n",
    "    df_trans = pd.read_csv(path+\"transactions_train.csv.zip\",dtype=tran_dtypes)\n",
    "    df_trans[\"t_dat\"] = pd.to_datetime(df_trans[\"t_dat\"],format=\"%Y-%m-%d\")\n",
    "\n",
    "    df_trans = df_trans.query(f\"t_dat >= '{day_oldest}'\").copy()\n",
    "    df_trans = df_trans.drop_duplicates([\"customer_id\",\"article_id\",\"t_dat\"])\n",
    "    df_art,dict_vec = item_representation_1()\n",
    "    df_trans = df_trans.merge(df_art[[\"article_id\",\"product_code\",\"product_type_no\",\"graphical_appearance_no\",\"colour_group_code\",\"department_no\",\"index_code\",\"index_group_no\",\"section_no\",\"garment_group_no\"]],how=\"left\",on=\"article_id\")\n",
    "\n",
    "    return df_trans, df_art, dict_vec"
   ]
  },
  {
   "cell_type": "markdown",
   "metadata": {
    "id": "4128aa41-0a7c-405c-a2c2-02a3e19678f2"
   },
   "source": [
    "Now we have all the ingredients we need -- we have a basic version of user representations and we have the article representations, and transactions data on which we can train our downstream task.\n",
    "\n",
    "The downstream task we consider is the task of predicting whether or not a user will purchase an article. This is the same task that we have been dealing with in the past 2 weeks.\n",
    "\n",
    "Lets define a train() function that will consider the start and end dates and split data based on these, generate the training data, do random negative sampling and train the model."
   ]
  },
  {
   "cell_type": "code",
   "execution_count": 73,
   "metadata": {
    "id": "5e0c7a4f-8e4d-42f7-b379-1ebc870375d9"
   },
   "outputs": [],
   "source": [
    "def train():\n",
    "    #### Transaction start date say it is from 2019/9/23 and say we take 1 week data\n",
    "    day_start = datetime.datetime(2019,9,23) - datetime.timedelta(days=6)\n",
    "    #### Transaction end date\n",
    "    day_end = datetime.datetime(2019,9,23) - datetime.timedelta(days=0)\n",
    "    \n",
    "    ######## Splitting data based on date ###########################\n",
    "    ####### Train date ###########################################\n",
    "    ## Let's consider the training data for 1 year\n",
    "    day_start_hist = day_start - datetime.timedelta(days=366)\n",
    "    day_end_hist = day_start - datetime.timedelta(days=1)\n",
    "    \n",
    "    df_trans, df_art, dict_vec = read_data(day_oldest = datetime.datetime(2018,9,23))\n",
    "\n",
    "    df_cust = user_representation_1()\n",
    "\n",
    "    query_date = f\"((t_dat >= '{day_start}') and (t_dat <= '{day_end}'))\"\n",
    "    top_art_all = df_trans.query(query_date ).groupby(\"article_id\")[\"t_dat\"].count().sort_values(ascending = False).index[:N].tolist()\n",
    "\n",
    "    \n",
    "    \n",
    "    \n",
    "    ############### Create training data #################################################################################\n",
    "    \n",
    "    \n",
    "    list_df_buy = []\n",
    "    list_cust =[]\n",
    "    \n",
    "    # make positive samples\n",
    "    list_df_buy = df_trans.query(f\"(t_dat >= '{day_start}') and (t_dat <= '{day_end}') and (article_id in @top_art_all)\").drop_duplicates([\"customer_id\",\"article_id\"])[[\"customer_id\",\"article_id\"]].copy()\n",
    "    list_df_buy[\"target\"] = 1\n",
    "    list_cust = list_df_buy[\"customer_id\"].unique().tolist()\n",
    "        \n",
    "        \n",
    "    # make negative samples (random selection)\n",
    "    \n",
    "    list_df_nobuy = pd.concat([pd.DataFrame({\"customer_id\":x,\"article_id\":random.sample(top_art_all,nobuy)}) for x in list_cust])\n",
    "    list_df_nobuy[\"target\"] = 0\n",
    "    list_train = pd.concat([list_df_buy,list_df_nobuy]).drop_duplicates([\"customer_id\",\"article_id\"])\n",
    "    del list_df_nobuy\n",
    "\n",
    "    # add feature\n",
    "    df_train = pd.DataFrame()\n",
    "    \n",
    "    ########## Merging item features with the transactions data ###################################################\n",
    "    list_train = list_train.merge(df_art[[\"article_id\",\"product_code\",\"product_type_no\",\"graphical_appearance_no\",\"colour_group_code\",\"department_no\",\"index_code\",\"index_group_no\",\"section_no\",\"garment_group_no\"]],how=\"left\",on=\"article_id\")\n",
    "    \n",
    "    ######### Merging customer data with the above data ######################################\n",
    "    list_train = list_train.merge(df_cust, how=\"left\", on=\"customer_id\")\n",
    "    df_train = df_train.append(list_train)\n",
    "    del list_train\n",
    "    gc.collect()\n",
    "    \n",
    "    \n",
    "    # now that we have all the data in place, lets train the lgbm model\n",
    "\n",
    "    # train lgbm\n",
    "    X_train = df_train.drop([\"customer_id\",\"product_code\",\"product_type_no\",\"department_no\",\"target\"],axis=1)\n",
    "    y_train = df_train[\"target\"]\n",
    "    del df_train\n",
    "    \n",
    "    X_tr, X_va, y_tr, y_va = train_test_split(X_train,y_train,stratify = y_train)\n",
    "    d_tr = lgb.Dataset(X_tr, label=y_tr,  free_raw_data=False)\n",
    "    d_va = lgb.Dataset(X_va, label=y_va,  free_raw_data=False)\n",
    "    lgbm_model = lgb.train(lgb_params, train_set=d_tr, num_boost_round=n_round, valid_sets=[d_tr,d_va], verbose_eval=500, early_stopping_rounds=100)\n",
    "    \n",
    "    # save model\n",
    "    pd.to_pickle(lgbm_model,\"lgbm_model.pkl\")\n",
    "    del X_train, y_train, X_tr, X_va, y_tr, y_va, d_tr, d_va\n",
    "    gc.collect()\n",
    "    del df_trans, df_art, df_cust\n",
    "    gc.collect()\n",
    "    return 0"
   ]
  },
  {
   "cell_type": "code",
   "execution_count": 74,
   "metadata": {
    "colab": {
     "base_uri": "https://localhost:8080/"
    },
    "id": "afb1b72d-7f50-4dc8-a44c-95dcf9c537d2",
    "outputId": "842ea858-0607-4114-e485-4c36be7d2041"
   },
   "outputs": [
    {
     "name": "stderr",
     "output_type": "stream",
     "text": [
      "/home/edge/anaconda3/lib/python3.8/site-packages/lightgbm/engine.py:181: UserWarning: 'early_stopping_rounds' argument is deprecated and will be removed in a future release of LightGBM. Pass 'early_stopping()' callback via 'callbacks' argument instead.\n",
      "  _log_warning(\"'early_stopping_rounds' argument is deprecated and will be removed in a future release of LightGBM. \"\n",
      "/home/edge/anaconda3/lib/python3.8/site-packages/lightgbm/engine.py:239: UserWarning: 'verbose_eval' argument is deprecated and will be removed in a future release of LightGBM. Pass 'log_evaluation()' callback via 'callbacks' argument instead.\n",
      "  _log_warning(\"'verbose_eval' argument is deprecated and will be removed in a future release of LightGBM. \"\n"
     ]
    },
    {
     "name": "stdout",
     "output_type": "stream",
     "text": [
      "Training until validation scores don't improve for 100 rounds\n",
      "[500]\ttraining's auc: 0.808877\tvalid_1's auc: 0.802748\n",
      "[1000]\ttraining's auc: 0.823098\tvalid_1's auc: 0.813577\n",
      "[1500]\ttraining's auc: 0.831978\tvalid_1's auc: 0.819442\n",
      "[2000]\ttraining's auc: 0.838381\tvalid_1's auc: 0.822961\n",
      "Did not meet early stopping. Best iteration is:\n",
      "[2000]\ttraining's auc: 0.838381\tvalid_1's auc: 0.822961\n"
     ]
    },
    {
     "data": {
      "text/plain": [
       "0"
      ]
     },
     "execution_count": 74,
     "metadata": {},
     "output_type": "execute_result"
    }
   ],
   "source": [
    "train()"
   ]
  },
  {
   "cell_type": "code",
   "execution_count": 75,
   "metadata": {},
   "outputs": [],
   "source": [
    "def train_2():\n",
    "    #### Transaction start date say it is from 2019/9/23 and say we take 1 week data\n",
    "    day_start = datetime.datetime(2019,9,23) - datetime.timedelta(days=6)\n",
    "    #### Transaction end date\n",
    "    day_end = datetime.datetime(2019,9,23) - datetime.timedelta(days=0)\n",
    "    \n",
    "    ######## Splitting data based on date ###########################\n",
    "    ####### Train date ###########################################\n",
    "    ## Let's consider the training data for 1 year\n",
    "    day_start_hist = day_start - datetime.timedelta(days=366)\n",
    "    day_end_hist = day_start - datetime.timedelta(days=1)\n",
    "    \n",
    "    df_trans, df_art, dict_vec = read_data(day_oldest = datetime.datetime(2018,9,23))\n",
    "\n",
    "    df_cust = user_representation_2()\n",
    "\n",
    "    query_date = f\"((t_dat >= '{day_start}') and (t_dat <= '{day_end}'))\"\n",
    "    top_art_all = df_trans.query(query_date ).groupby(\"article_id\")[\"t_dat\"].count().sort_values(ascending = False).index[:N].tolist()\n",
    "\n",
    "    \n",
    "    \n",
    "    \n",
    "    ############### Create training data #################################################################################\n",
    "    \n",
    "    \n",
    "    list_df_buy = []\n",
    "    list_cust =[]\n",
    "    \n",
    "    # make positive samples\n",
    "    list_df_buy = df_trans.query(f\"(t_dat >= '{day_start}') and (t_dat <= '{day_end}') and (article_id in @top_art_all)\").drop_duplicates([\"customer_id\",\"article_id\"])[[\"customer_id\",\"article_id\"]].copy()\n",
    "    list_df_buy[\"target\"] = 1\n",
    "    list_cust = list_df_buy[\"customer_id\"].unique().tolist()\n",
    "        \n",
    "        \n",
    "    # make negative samples (random selection)\n",
    "    \n",
    "    list_df_nobuy = pd.concat([pd.DataFrame({\"customer_id\":x,\"article_id\":random.sample(top_art_all,nobuy)}) for x in list_cust])\n",
    "    list_df_nobuy[\"target\"] = 0\n",
    "    list_train = pd.concat([list_df_buy,list_df_nobuy]).drop_duplicates([\"customer_id\",\"article_id\"])\n",
    "    del list_df_nobuy\n",
    "\n",
    "    # add feature\n",
    "    df_train = pd.DataFrame()\n",
    "    \n",
    "    ########## Merging item features with the transactions data ###################################################\n",
    "    list_train = list_train.merge(df_art[[\"article_id\",\"product_code\",\"product_type_no\",\"graphical_appearance_no\",\"colour_group_code\",\"department_no\",\"index_code\",\"index_group_no\",\"section_no\",\"garment_group_no\"]],how=\"left\",on=\"article_id\")\n",
    "    \n",
    "    ######### Merging customer data with the above data ######################################\n",
    "    list_train = list_train.merge(df_cust, how=\"left\", on=\"customer_id\")\n",
    "    df_train = df_train.append(list_train)\n",
    "    del list_train\n",
    "    gc.collect()\n",
    "    \n",
    "    \n",
    "    # now that we have all the data in place, lets train the lgbm model\n",
    "\n",
    "    # train lgbm\n",
    "    X_train = df_train.drop([\"customer_id\",\"product_code\",\"product_type_no\",\"department_no\",\"target\"],axis=1)\n",
    "    y_train = df_train[\"target\"]\n",
    "    del df_train\n",
    "    \n",
    "    X_tr, X_va, y_tr, y_va = train_test_split(X_train,y_train,stratify = y_train)\n",
    "    d_tr = lgb.Dataset(X_tr, label=y_tr,  free_raw_data=False)\n",
    "    d_va = lgb.Dataset(X_va, label=y_va,  free_raw_data=False)\n",
    "    lgbm_model = lgb.train(lgb_params, train_set=d_tr, num_boost_round=n_round, valid_sets=[d_tr,d_va], verbose_eval=500, early_stopping_rounds=100)\n",
    "    \n",
    "    # save model\n",
    "    pd.to_pickle(lgbm_model,\"lgbm_model.pkl\")\n",
    "    del X_train, y_train, X_tr, X_va, y_tr, y_va, d_tr, d_va\n",
    "    gc.collect()\n",
    "    del df_trans, df_art, df_cust\n",
    "    gc.collect()\n",
    "    return 0"
   ]
  },
  {
   "cell_type": "code",
   "execution_count": null,
   "metadata": {},
   "outputs": [],
   "source": [
    "train_2()"
   ]
  },
  {
   "cell_type": "markdown",
   "metadata": {
    "id": "2a4b63a5-56ee-4bd2-b7b8-2aebb5299b31"
   },
   "source": [
    "We have now trained a light gbm model using user_representation_1() function as the user representation technique. The key goals for part B of this week's project are to implement user_representation_2(), where we represent the user as the average of embeddings of their recently purchased articles.\n"
   ]
  },
  {
   "cell_type": "markdown",
   "metadata": {
    "id": "4940f48d-08e5-4130-be2c-d15622012620"
   },
   "source": [
    "Once you have implemented the function, please note to change the line:\n",
    "\n",
    "df_cust = user_representation_1()\n",
    "\n",
    "to the appropriate function name and run re-train the model. Please report the performance numbers with each of the two user representations.\n",
    "\n",
    "This should complete the week 3 project!"
   ]
  },
  {
   "cell_type": "markdown",
   "metadata": {
    "id": "ydLW7dPiuw-E"
   },
   "source": [
    "### Optional task 1: training a Doc2Vec model\n",
    "\n",
    "If you want an extra challenge, you can try implementing Doc2vec representations in user_representation_3(). The Doc2vec model is an embedding learning method\n",
    "    that enables us to learn representations of a document.\n",
    "    We treat each user as a document, and the set of articles\n",
    "    the user has purchased as the set of words in the document."
   ]
  },
  {
   "cell_type": "markdown",
   "metadata": {
    "id": "ce141145-f5af-4f2d-9d94-f4bb50e6208f"
   },
   "source": [
    "### Optional task 2: training a sequential LSTM model\n",
    "\n",
    "Another optional task here would be to implement user_representation_4() where user representations are learnt by a sequential LSTM model. The LSTM model will need to be trained on a task -- the task itself could be the downstream task of predicting whether or not a user would purchase a given article given a sequence of previous articles. The final hidden layer of the lstm model can be used as the user representation."
   ]
  },
  {
   "cell_type": "code",
   "execution_count": null,
   "metadata": {
    "id": "88eb3b58-062c-4c96-b3f0-2db4407ce1b3"
   },
   "outputs": [],
   "source": []
  }
 ],
 "metadata": {
  "accelerator": "GPU",
  "colab": {
   "collapsed_sections": [],
   "machine_shape": "hm",
   "name": "week3-ann-user-representations.ipynb",
   "provenance": []
  },
  "environment": {
   "kernel": "python3",
   "name": "tf2-gpu.2-6.m89",
   "type": "gcloud",
   "uri": "gcr.io/deeplearning-platform-release/tf2-gpu.2-6:m89"
  },
  "gpuClass": "standard",
  "kernelspec": {
   "display_name": "Python 3",
   "language": "python",
   "name": "python3"
  },
  "language_info": {
   "codemirror_mode": {
    "name": "ipython",
    "version": 3
   },
   "file_extension": ".py",
   "mimetype": "text/x-python",
   "name": "python",
   "nbconvert_exporter": "python",
   "pygments_lexer": "ipython3",
   "version": "3.8.3"
  }
 },
 "nbformat": 4,
 "nbformat_minor": 5
}
